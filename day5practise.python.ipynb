{
 "cells": [
  {
   "cell_type": "code",
   "execution_count": 1,
   "metadata": {},
   "outputs": [
    {
     "name": "stdout",
     "output_type": "stream",
     "text": [
      "['nishitha', 'suraksha', 'pavitra', 'neha', 'sanny', 'roohi']\n"
     ]
    }
   ],
   "source": [
    "students=['nishitha','suraksha','pavitra','neha','sanny','roohi']\n",
    "print(students)"
   ]
  },
  {
   "cell_type": "code",
   "execution_count": 2,
   "metadata": {},
   "outputs": [
    {
     "name": "stdout",
     "output_type": "stream",
     "text": [
      "keep up the good work,pavitra\n"
     ]
    }
   ],
   "source": [
    "y=f\"keep up the good work,{students[2]}\"\n",
    "print(y)"
   ]
  },
  {
   "cell_type": "code",
   "execution_count": 3,
   "metadata": {},
   "outputs": [
    {
     "name": "stdout",
     "output_type": "stream",
     "text": [
      "nishitha\n",
      "suraksha\n",
      "pavitra\n",
      "neha\n",
      "sanny\n",
      "roohi\n"
     ]
    }
   ],
   "source": [
    "for i in students:\n",
    "    print(i)"
   ]
  },
  {
   "cell_type": "code",
   "execution_count": 4,
   "metadata": {},
   "outputs": [
    {
     "ename": "SyntaxError",
     "evalue": "EOL while scanning string literal (<ipython-input-4-d3b856cd85cf>, line 1)",
     "output_type": "error",
     "traceback": [
      "\u001b[1;36m  File \u001b[1;32m\"<ipython-input-4-d3b856cd85cf>\"\u001b[1;36m, line \u001b[1;32m1\u001b[0m\n\u001b[1;33m    k=f\"keep up the good work,{i}\u001b[0m\n\u001b[1;37m                                 ^\u001b[0m\n\u001b[1;31mSyntaxError\u001b[0m\u001b[1;31m:\u001b[0m EOL while scanning string literal\n"
     ]
    }
   ],
   "source": [
    "k=f\"keep up the good work,{i}\n",
    "print(k)"
   ]
  },
  {
   "cell_type": "code",
   "execution_count": 5,
   "metadata": {},
   "outputs": [
    {
     "ename": "SyntaxError",
     "evalue": "EOL while scanning string literal (<ipython-input-5-f7e6e64d16e5>, line 2)",
     "output_type": "error",
     "traceback": [
      "\u001b[1;36m  File \u001b[1;32m\"<ipython-input-5-f7e6e64d16e5>\"\u001b[1;36m, line \u001b[1;32m2\u001b[0m\n\u001b[1;33m    print(f\"keep up the good work,{i})\u001b[0m\n\u001b[1;37m                                      ^\u001b[0m\n\u001b[1;31mSyntaxError\u001b[0m\u001b[1;31m:\u001b[0m EOL while scanning string literal\n"
     ]
    }
   ],
   "source": [
    "for i in students:\n",
    "    print(f\"keep up the good work,{i})"
   ]
  },
  {
   "cell_type": "code",
   "execution_count": 6,
   "metadata": {},
   "outputs": [
    {
     "name": "stdout",
     "output_type": "stream",
     "text": [
      "nishitha\n",
      "suraksha\n",
      "pavitra\n",
      "neha\n",
      "sanny\n",
      "roohi\n"
     ]
    }
   ],
   "source": [
    "for c in students:\n",
    "    print(c)"
   ]
  },
  {
   "cell_type": "code",
   "execution_count": 7,
   "metadata": {},
   "outputs": [
    {
     "name": "stdout",
     "output_type": "stream",
     "text": [
      "keep up the good work,nishitha\n",
      "keep up the good work,suraksha\n",
      "keep up the good work,pavitra\n",
      "keep up the good work,neha\n",
      "keep up the good work,sanny\n",
      "keep up the good work,roohi\n"
     ]
    }
   ],
   "source": [
    "for c in students:\n",
    "    print(f\"keep up the good work,{c}\")"
   ]
  },
  {
   "cell_type": "code",
   "execution_count": 8,
   "metadata": {},
   "outputs": [
    {
     "name": "stdout",
     "output_type": "stream",
     "text": [
      "keep up the good work,nishitha\n",
      "I will be looking forward to receive your file of today,nishitha\n",
      "keep up the good work,suraksha\n",
      "I will be looking forward to receive your file of today,suraksha\n",
      "keep up the good work,pavitra\n",
      "I will be looking forward to receive your file of today,pavitra\n",
      "keep up the good work,neha\n",
      "I will be looking forward to receive your file of today,neha\n",
      "keep up the good work,sanny\n",
      "I will be looking forward to receive your file of today,sanny\n",
      "keep up the good work,roohi\n",
      "I will be looking forward to receive your file of today,roohi\n"
     ]
    }
   ],
   "source": [
    "for c in students:\n",
    "    print(f\"keep up the good work,{c}\")\n",
    "    print(f\"I will be looking forward to receive your file of today,{c}\")"
   ]
  },
  {
   "cell_type": "code",
   "execution_count": 9,
   "metadata": {},
   "outputs": [
    {
     "name": "stdout",
     "output_type": "stream",
     "text": [
      "keep up the good work,nishitha\n",
      "I will be looking forward to receive your file of today,nishitha\n",
      "\n",
      "keep up the good work,suraksha\n",
      "I will be looking forward to receive your file of today,suraksha\n",
      "\n",
      "keep up the good work,pavitra\n",
      "I will be looking forward to receive your file of today,pavitra\n",
      "\n",
      "keep up the good work,neha\n",
      "I will be looking forward to receive your file of today,neha\n",
      "\n",
      "keep up the good work,sanny\n",
      "I will be looking forward to receive your file of today,sanny\n",
      "\n",
      "keep up the good work,roohi\n",
      "I will be looking forward to receive your file of today,roohi\n",
      "\n"
     ]
    }
   ],
   "source": [
    "for c in students:\n",
    "    print(f\"keep up the good work,{c}\")\n",
    "    print(f\"I will be looking forward to receive your file of today,{c}\\n\")"
   ]
  },
  {
   "cell_type": "code",
   "execution_count": null,
   "metadata": {},
   "outputs": [],
   "source": []
  }
 ],
 "metadata": {
  "kernelspec": {
   "display_name": "Python 3",
   "language": "python",
   "name": "python3"
  },
  "language_info": {
   "codemirror_mode": {
    "name": "ipython",
    "version": 3
   },
   "file_extension": ".py",
   "mimetype": "text/x-python",
   "name": "python",
   "nbconvert_exporter": "python",
   "pygments_lexer": "ipython3",
   "version": "3.8.3"
  }
 },
 "nbformat": 4,
 "nbformat_minor": 4
}
