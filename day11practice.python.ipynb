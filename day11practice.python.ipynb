{
 "cells": [
  {
   "cell_type": "code",
   "execution_count": 1,
   "metadata": {},
   "outputs": [],
   "source": [
    "#introduction to conditional statements"
   ]
  },
  {
   "cell_type": "code",
   "execution_count": 2,
   "metadata": {},
   "outputs": [
    {
     "ename": "SyntaxError",
     "evalue": "invalid syntax (<ipython-input-2-13b5877fe8f4>, line 1)",
     "output_type": "error",
     "traceback": [
      "\u001b[1;36m  File \u001b[1;32m\"<ipython-input-2-13b5877fe8f4>\"\u001b[1;36m, line \u001b[1;32m1\u001b[0m\n\u001b[1;33m    class=3\u001b[0m\n\u001b[1;37m         ^\u001b[0m\n\u001b[1;31mSyntaxError\u001b[0m\u001b[1;31m:\u001b[0m invalid syntax\n"
     ]
    }
   ],
   "source": [
    "class=3"
   ]
  },
  {
   "cell_type": "code",
   "execution_count": null,
   "metadata": {},
   "outputs": [],
   "source": [
    "marks=75"
   ]
  },
  {
   "cell_type": "code",
   "execution_count": 4,
   "metadata": {},
   "outputs": [
    {
     "ename": "NameError",
     "evalue": "name 'marks' is not defined",
     "output_type": "error",
     "traceback": [
      "\u001b[1;31m---------------------------------------------------------------------------\u001b[0m",
      "\u001b[1;31mNameError\u001b[0m                                 Traceback (most recent call last)",
      "\u001b[1;32m<ipython-input-4-494dbc809097>\u001b[0m in \u001b[0;36m<module>\u001b[1;34m\u001b[0m\n\u001b[1;32m----> 1\u001b[1;33m \u001b[1;32mif\u001b[0m \u001b[0mmarks\u001b[0m\u001b[1;33m>=\u001b[0m \u001b[1;36m50\u001b[0m\u001b[1;33m:\u001b[0m\u001b[1;33m\u001b[0m\u001b[1;33m\u001b[0m\u001b[0m\n\u001b[0m\u001b[0;32m      2\u001b[0m     \u001b[0mprint\u001b[0m\u001b[1;33m(\u001b[0m\u001b[1;34m'you passed board exam'\u001b[0m\u001b[1;33m)\u001b[0m\u001b[1;33m\u001b[0m\u001b[1;33m\u001b[0m\u001b[0m\n\u001b[0;32m      3\u001b[0m \u001b[1;32melse\u001b[0m\u001b[1;33m:\u001b[0m\u001b[1;33m\u001b[0m\u001b[1;33m\u001b[0m\u001b[0m\n\u001b[0;32m      4\u001b[0m     \u001b[0mprint\u001b[0m\u001b[1;33m(\u001b[0m\u001b[1;34m'sorry you failed'\u001b[0m\u001b[1;33m)\u001b[0m\u001b[1;33m\u001b[0m\u001b[1;33m\u001b[0m\u001b[0m\n",
      "\u001b[1;31mNameError\u001b[0m: name 'marks' is not defined"
     ]
    }
   ],
   "source": [
    "if marks>= 50:\n",
    "    print('you passed board exam')\n",
    "else:\n",
    "    print('sorry you failed')"
   ]
  },
  {
   "cell_type": "code",
   "execution_count": 6,
   "metadata": {},
   "outputs": [
    {
     "name": "stdout",
     "output_type": "stream",
     "text": [
      "sorry you failed\n"
     ]
    }
   ],
   "source": [
    "marks=44\n",
    "if marks>= 50:\n",
    "    print('you passed board exam')\n",
    "else:\n",
    "    print('sorry you failed')"
   ]
  },
  {
   "cell_type": "code",
   "execution_count": 12,
   "metadata": {},
   "outputs": [
    {
     "ename": "SyntaxError",
     "evalue": "invalid syntax (<ipython-input-12-5c7657d3f966>, line 1)",
     "output_type": "error",
     "traceback": [
      "\u001b[1;36m  File \u001b[1;32m\"<ipython-input-12-5c7657d3f966>\"\u001b[1;36m, line \u001b[1;32m1\u001b[0m\n\u001b[1;33m    class=9\u001b[0m\n\u001b[1;37m         ^\u001b[0m\n\u001b[1;31mSyntaxError\u001b[0m\u001b[1;31m:\u001b[0m invalid syntax\n"
     ]
    }
   ],
   "source": [
    "class=9\n",
    "if class<=5:\n",
    "    print('you are sub junior')\n",
    "elif class<=8:\n",
    "    print('you are junior')\n",
    "else:\n",
    "    print('you are senior')"
   ]
  },
  {
   "cell_type": "code",
   "execution_count": 14,
   "metadata": {},
   "outputs": [
    {
     "ename": "SyntaxError",
     "evalue": "invalid syntax (<ipython-input-14-8383a52773de>, line 1)",
     "output_type": "error",
     "traceback": [
      "\u001b[1;36m  File \u001b[1;32m\"<ipython-input-14-8383a52773de>\"\u001b[1;36m, line \u001b[1;32m1\u001b[0m\n\u001b[1;33m    class=8\u001b[0m\n\u001b[1;37m         ^\u001b[0m\n\u001b[1;31mSyntaxError\u001b[0m\u001b[1;31m:\u001b[0m invalid syntax\n"
     ]
    }
   ],
   "source": [
    "class=8\n",
    "if class<=5:\n",
    "    print('you are sub junior')\n",
    "elif class<=8:\n",
    "    print('you are junior')\n",
    "else:\n",
    "    print('you are senior')"
   ]
  },
  {
   "cell_type": "code",
   "execution_count": 15,
   "metadata": {},
   "outputs": [
    {
     "ename": "SyntaxError",
     "evalue": "invalid syntax (<ipython-input-15-8383a52773de>, line 1)",
     "output_type": "error",
     "traceback": [
      "\u001b[1;36m  File \u001b[1;32m\"<ipython-input-15-8383a52773de>\"\u001b[1;36m, line \u001b[1;32m1\u001b[0m\n\u001b[1;33m    class=8\u001b[0m\n\u001b[1;37m         ^\u001b[0m\n\u001b[1;31mSyntaxError\u001b[0m\u001b[1;31m:\u001b[0m invalid syntax\n"
     ]
    }
   ],
   "source": [
    "class=8\n",
    "if class<=5:\n",
    "    print('you are sub junior')\n",
    "elif class<=8:\n",
    "    print('you are junior')\n",
    "else:\n",
    "    print('you are senior')"
   ]
  },
  {
   "cell_type": "code",
   "execution_count": 16,
   "metadata": {},
   "outputs": [
    {
     "name": "stdout",
     "output_type": "stream",
     "text": [
      "your ticket price is 30 rupees\n"
     ]
    }
   ],
   "source": [
    "age=12\n",
    "if age<=4:\n",
    "    print('your ticket price is free')\n",
    "elif age<=20:\n",
    "    print('your ticket price is 30 rupees')\n",
    "else:\n",
    "    print('your ticket price is 50 rupees')"
   ]
  },
  {
   "cell_type": "code",
   "execution_count": 18,
   "metadata": {},
   "outputs": [
    {
     "name": "stdout",
     "output_type": "stream",
     "text": [
      "you need to attend another 2 classes\n"
     ]
    }
   ],
   "source": [
    "period=6\n",
    "if period<=3:\n",
    "    print('you need to attend another 3 classes')\n",
    "elif period<=7:\n",
    "    print('you need to attend another 2 classes')\n",
    "else:\n",
    "    print('sucesfully completed')"
   ]
  },
  {
   "cell_type": "raw",
   "metadata": {},
   "source": [
    "#user accepted input:"
   ]
  },
  {
   "cell_type": "code",
   "execution_count": 19,
   "metadata": {},
   "outputs": [
    {
     "name": "stdout",
     "output_type": "stream",
     "text": [
      "tell me something and i will repeat it after youhelloo dear\n",
      "helloo dear\n"
     ]
    }
   ],
   "source": [
    "message=input(\"tell me something and i will repeat it after you\")\n",
    "print(message)"
   ]
  },
  {
   "cell_type": "code",
   "execution_count": 22,
   "metadata": {},
   "outputs": [
    {
     "name": "stdout",
     "output_type": "stream",
     "text": [
      "please enter your name:suraksha\n",
      "hello,suraksha\n"
     ]
    }
   ],
   "source": [
    "name=input('please enter your name:')\n",
    "print(f\"hello,{name}\")"
   ]
  },
  {
   "cell_type": "code",
   "execution_count": 23,
   "metadata": {},
   "outputs": [
    {
     "name": "stdout",
     "output_type": "stream",
     "text": [
      "if u tell us who u are we can personalize the mesaage for you\n",
      " what is your name?suraksha\n"
     ]
    }
   ],
   "source": [
    "prompt='if u tell us who u are we can personalize the mesaage for you'\n",
    "prompt+='\\n what is your name?'\n",
    "name=input(prompt)"
   ]
  },
  {
   "cell_type": "code",
   "execution_count": 24,
   "metadata": {},
   "outputs": [
    {
     "name": "stdout",
     "output_type": "stream",
     "text": [
      "if u tell us who u are we can personalize the mesaage for you\n",
      " what is your name?suraksha\n",
      "\n",
      "Hello,suraksha\n"
     ]
    }
   ],
   "source": [
    "name=input(prompt)\n",
    "print(f\"\\nHello,{name}\")"
   ]
  },
  {
   "cell_type": "code",
   "execution_count": 25,
   "metadata": {},
   "outputs": [
    {
     "name": "stdout",
     "output_type": "stream",
     "text": [
      "if u tell us who u are we can personalize the mesaage for you\n",
      " what is your name?suraksha\n",
      "\n",
      "Hi there!suraksha\n"
     ]
    }
   ],
   "source": [
    "name=input(prompt)\n",
    "print(f\"\\nHi there!{name}\")"
   ]
  },
  {
   "cell_type": "code",
   "execution_count": 26,
   "metadata": {},
   "outputs": [
    {
     "name": "stdout",
     "output_type": "stream",
     "text": [
      "please enter your area name:hyderabad\n",
      "succefully identified,hyderabad\n"
     ]
    }
   ],
   "source": [
    "location=input('please enter your area name:')\n",
    "print(f\"succefully identified,{location}\")"
   ]
  },
  {
   "cell_type": "code",
   "execution_count": 27,
   "metadata": {},
   "outputs": [
    {
     "name": "stdout",
     "output_type": "stream",
     "text": [
      "if you tell us your area we can reach you safe\n",
      " where are you from?hyderabad\n"
     ]
    }
   ],
   "source": [
    "prompt='if you tell us your area we can reach you safe'\n",
    "prompt+='\\n where are you from?'\n",
    "location=input(prompt)"
   ]
  },
  {
   "cell_type": "code",
   "execution_count": null,
   "metadata": {},
   "outputs": [],
   "source": []
  },
  {
   "cell_type": "code",
   "execution_count": null,
   "metadata": {},
   "outputs": [],
   "source": []
  }
 ],
 "metadata": {
  "kernelspec": {
   "display_name": "Python 3",
   "language": "python",
   "name": "python3"
  },
  "language_info": {
   "codemirror_mode": {
    "name": "ipython",
    "version": 3
   },
   "file_extension": ".py",
   "mimetype": "text/x-python",
   "name": "python",
   "nbconvert_exporter": "python",
   "pygments_lexer": "ipython3",
   "version": "3.8.3"
  }
 },
 "nbformat": 4,
 "nbformat_minor": 4
}
