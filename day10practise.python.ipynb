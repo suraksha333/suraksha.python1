{
 "cells": [
  {
   "cell_type": "code",
   "execution_count": 1,
   "metadata": {},
   "outputs": [
    {
     "name": "stdout",
     "output_type": "stream",
     "text": [
      "{'username': 'suraksha grace', 'firstname': 'suraksha', 'lastname': 'grace', 'location': 'hyderabad', 'password': '123456'}\n"
     ]
    }
   ],
   "source": [
    "user={'username':'suraksha grace','firstname':'suraksha','lastname':'grace','location':'hyderabad','password':'123456'}\n",
    "print(user)"
   ]
  },
  {
   "cell_type": "code",
   "execution_count": 3,
   "metadata": {},
   "outputs": [
    {
     "name": "stdout",
     "output_type": "stream",
     "text": [
      "username\n",
      "suraksha grace\n",
      "firstname\n",
      "suraksha\n",
      "lastname\n",
      "grace\n",
      "location\n",
      "hyderabad\n",
      "password\n",
      "123456\n"
     ]
    }
   ],
   "source": [
    "for k,v in user.items():\n",
    "    print(k)\n",
    "    print(v)"
   ]
  },
  {
   "cell_type": "code",
   "execution_count": 6,
   "metadata": {},
   "outputs": [
    {
     "name": "stdout",
     "output_type": "stream",
     "text": [
      "key:username\n",
      "values:suraksha grace\n",
      "\n",
      "key:firstname\n",
      "values:suraksha\n",
      "\n",
      "key:lastname\n",
      "values:grace\n",
      "\n",
      "key:location\n",
      "values:hyderabad\n",
      "\n",
      "key:password\n",
      "values:123456\n",
      "\n"
     ]
    }
   ],
   "source": [
    "for x,y in user.items():\n",
    "    print(f\"key:{x}\")\n",
    "    print(f\"values:{y}\\n\")"
   ]
  },
  {
   "cell_type": "code",
   "execution_count": 7,
   "metadata": {},
   "outputs": [
    {
     "name": "stdout",
     "output_type": "stream",
     "text": [
      "key:username\n",
      "key:firstname\n",
      "key:lastname\n",
      "key:location\n",
      "key:password\n"
     ]
    }
   ],
   "source": [
    "for x in user.keys():\n",
    "    print(f\"key:{x}\")"
   ]
  },
  {
   "cell_type": "code",
   "execution_count": 9,
   "metadata": {},
   "outputs": [
    {
     "name": "stdout",
     "output_type": "stream",
     "text": [
      "value:suraksha grace\n",
      "value:suraksha\n",
      "value:grace\n",
      "value:hyderabad\n",
      "value:123456\n"
     ]
    }
   ],
   "source": [
    "for y in user.values():\n",
    "    print(f\"value:{y}\")"
   ]
  },
  {
   "cell_type": "code",
   "execution_count": null,
   "metadata": {},
   "outputs": [],
   "source": []
  }
 ],
 "metadata": {
  "kernelspec": {
   "display_name": "Python 3",
   "language": "python",
   "name": "python3"
  },
  "language_info": {
   "codemirror_mode": {
    "name": "ipython",
    "version": 3
   },
   "file_extension": ".py",
   "mimetype": "text/x-python",
   "name": "python",
   "nbconvert_exporter": "python",
   "pygments_lexer": "ipython3",
   "version": "3.8.3"
  }
 },
 "nbformat": 4,
 "nbformat_minor": 4
}
